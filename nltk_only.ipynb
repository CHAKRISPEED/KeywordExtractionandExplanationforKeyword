{
  "cells": [
    {
      "cell_type": "markdown",
      "metadata": {
        "id": "view-in-github",
        "colab_type": "text"
      },
      "source": [
        "<a href=\"https://colab.research.google.com/github/CHAKRISPEED/KeywordExtractionandExplanationforKeyword/blob/main/nltk_only.ipynb\" target=\"_parent\"><img src=\"https://colab.research.google.com/assets/colab-badge.svg\" alt=\"Open In Colab\"/></a>"
      ]
    },
    {
      "cell_type": "code",
      "source": [
        "!pip install nltk\n"
      ],
      "metadata": {
        "colab": {
          "base_uri": "https://localhost:8080/"
        },
        "id": "epaQDmXCsA5c",
        "outputId": "5dd18202-b1b2-4b86-be78-6fcbb1505c74"
      },
      "execution_count": null,
      "outputs": [
        {
          "output_type": "stream",
          "name": "stdout",
          "text": [
            "Requirement already satisfied: nltk in /usr/local/lib/python3.10/dist-packages (3.8.1)\n",
            "Requirement already satisfied: click in /usr/local/lib/python3.10/dist-packages (from nltk) (8.1.7)\n",
            "Requirement already satisfied: joblib in /usr/local/lib/python3.10/dist-packages (from nltk) (1.3.2)\n",
            "Requirement already satisfied: regex>=2021.8.3 in /usr/local/lib/python3.10/dist-packages (from nltk) (2023.12.25)\n",
            "Requirement already satisfied: tqdm in /usr/local/lib/python3.10/dist-packages (from nltk) (4.66.2)\n"
          ]
        }
      ]
    },
    {
      "cell_type": "code",
      "source": [
        "import nltk\n",
        "nltk.download('wordnet')\n"
      ],
      "metadata": {
        "colab": {
          "base_uri": "https://localhost:8080/"
        },
        "id": "MhWsFKVlsL6D",
        "outputId": "a45de932-690f-4cf2-e2e3-2dab76342f95"
      },
      "execution_count": null,
      "outputs": [
        {
          "output_type": "stream",
          "name": "stderr",
          "text": [
            "[nltk_data] Downloading package wordnet to /root/nltk_data...\n"
          ]
        },
        {
          "output_type": "execute_result",
          "data": {
            "text/plain": [
              "True"
            ]
          },
          "metadata": {},
          "execution_count": 9
        }
      ]
    },
    {
      "cell_type": "code",
      "source": [
        "import nltk\n",
        "nltk.download('punkt')\n"
      ],
      "metadata": {
        "colab": {
          "base_uri": "https://localhost:8080/"
        },
        "id": "psd-zJnZse_4",
        "outputId": "6ed59e8f-544f-48e2-c1f9-6bd30aeecdaa"
      },
      "execution_count": null,
      "outputs": [
        {
          "output_type": "stream",
          "name": "stderr",
          "text": [
            "[nltk_data] Downloading package punkt to /root/nltk_data...\n",
            "[nltk_data]   Package punkt is already up-to-date!\n"
          ]
        },
        {
          "output_type": "execute_result",
          "data": {
            "text/plain": [
              "True"
            ]
          },
          "metadata": {},
          "execution_count": 13
        }
      ]
    },
    {
      "cell_type": "code",
      "source": [
        "import nltk\n",
        "nltk.download('averaged_perceptron_tagger')\n"
      ],
      "metadata": {
        "colab": {
          "base_uri": "https://localhost:8080/"
        },
        "id": "hbfA4dvbss_y",
        "outputId": "ff83057a-c1d7-471e-a64c-76a01a7e76a2"
      },
      "execution_count": null,
      "outputs": [
        {
          "output_type": "stream",
          "name": "stderr",
          "text": [
            "[nltk_data] Downloading package averaged_perceptron_tagger to\n",
            "[nltk_data]     /root/nltk_data...\n",
            "[nltk_data]   Unzipping taggers/averaged_perceptron_tagger.zip.\n"
          ]
        },
        {
          "output_type": "execute_result",
          "data": {
            "text/plain": [
              "True"
            ]
          },
          "metadata": {},
          "execution_count": 14
        }
      ]
    },
    {
      "cell_type": "code",
      "source": [
        "+import nltk\n",
        "from nltk.tokenize import word_tokenize\n",
        "from nltk.corpus import wordnet\n",
        "\n",
        "def find_keywords(text):\n",
        "    # Tokenize the text into words\n",
        "    words = word_tokenize(text)\n",
        "\n",
        "    # Part-of-speech tagging to identify nouns, verbs, adjectives, and adverbs\n",
        "    pos_tags = nltk.pos_tag(words)\n",
        "\n",
        "    # Define the set of POS tags for each keyword category\n",
        "    keyword_tags = {\n",
        "        'noun': ['NN', 'NNS', 'NNP', 'NNPS'],  # Nouns\n",
        "        'verb': ['VB', 'VBD', 'VBG', 'VBN', 'VBP', 'VBZ'],  # Verbs\n",
        "        'adjective': ['JJ', 'JJR', 'JJS'],  # Adjectives\n",
        "        'adverb': ['RB', 'RBR', 'RBS']  # Adverbs\n",
        "    }\n",
        "\n",
        "    # Initialize an empty set to store the keywords\n",
        "    keywords = set()\n",
        "\n",
        "    # Iterate through each word and its corresponding POS tag\n",
        "    for word, tag in pos_tags:\n",
        "        # Check if the POS tag belongs to any of the keyword categories\n",
        "        for keyword, tags in keyword_tags.items():\n",
        "            if tag in tags:\n",
        "                keywords.add((word, keyword))\n",
        "\n",
        "    return keywords\n",
        "\n",
        "def explain_keywords(keywords):\n",
        "    for word, keyword_type in keywords:\n",
        "        synsets = wordnet.synsets(word)\n",
        "        if synsets:\n",
        "            synset = synsets[0]  # We'll just take the first synset for simplicity\n",
        "            definition = synset.definition()\n",
        "            example = synset.examples()\n",
        "            print(f\"{word} ({keyword_type}):\")\n",
        "            print(f\"Definition: {definition}\")\n",
        "            if example:\n",
        "                print(f\"Example: {example[0]}\")\n",
        "            print()\n",
        "\n",
        "# Example text\n",
        "text = \"\"\"Yake is a python library for keyword extraction. It is simple to use and provides good results.\n",
        "You can adjust parameters such as language, number of keywords, and more to customize the extraction process.\"\"\"\n",
        "\n",
        "# Find keywords\n",
        "keywords = find_keywords(text)\n",
        "\n",
        "# Explain keywords\n",
        "explain_keywords(keywords)\n"
      ],
      "metadata": {
        "colab": {
          "base_uri": "https://localhost:8080/"
        },
        "id": "lmtJTn4esUuo",
        "outputId": "c37e5d07-1d0b-4003-f8be-4adcb2fa9b0b"
      },
      "execution_count": null,
      "outputs": [
        {
          "output_type": "stream",
          "name": "stdout",
          "text": [
            "adjust (verb):\n",
            "Definition: alter or regulate so as to achieve accuracy or conform to a standard\n",
            "Example: Adjust the clock, please\n",
            "\n",
            "is (verb):\n",
            "Definition: have the quality of being; (copula, used with an adjective or a predicate noun)\n",
            "Example: John is rich\n",
            "\n",
            "simple (adjective):\n",
            "Definition: any herbaceous plant having medicinal properties\n",
            "\n",
            "such (adjective):\n",
            "Definition: of so extreme a degree or extent\n",
            "Example: such weeping\n",
            "\n",
            "process (noun):\n",
            "Definition: a particular course of action intended to achieve a result\n",
            "Example: the procedure of obtaining a driver's license\n",
            "\n",
            "number (noun):\n",
            "Definition: the property possessed by a sum or total or indefinite quantity of units or individuals\n",
            "Example: he had a number of chores to do\n",
            "\n",
            "extraction (noun):\n",
            "Definition: the process of obtaining something from a mixture or compound by chemical or physical or mechanical means\n",
            "\n",
            "parameters (noun):\n",
            "Definition: a constant in the equation of a curve that can be varied to yield a family of similar curves\n",
            "\n",
            "customize (verb):\n",
            "Definition: make to specifications\n",
            "Example: I had this desk custom-made for me\n",
            "\n",
            "provides (verb):\n",
            "Definition: give something useful or necessary to\n",
            "Example: We provided the room with an electrical heater\n",
            "\n",
            "good (adjective):\n",
            "Definition: benefit\n",
            "Example: for your own good\n",
            "\n",
            "use (verb):\n",
            "Definition: the act of using\n",
            "Example: he warned against the use of narcotic drugs\n",
            "\n",
            "library (noun):\n",
            "Definition: a room where books are kept\n",
            "Example: they had brandy in the library\n",
            "\n",
            "python (adjective):\n",
            "Definition: large Old World boas\n",
            "\n",
            "results (noun):\n",
            "Definition: a phenomenon that follows and is caused by some previous phenomenon\n",
            "Example: the magnetic effect was greater when the rod was lengthwise\n",
            "\n",
            "more (adjective):\n",
            "Definition: English statesman who opposed Henry VIII's divorce from Catherine of Aragon and was imprisoned and beheaded; recalled for his concept of Utopia, the ideal state\n",
            "\n",
            "language (noun):\n",
            "Definition: a systematic means of communicating by the use of sounds or conventional symbols\n",
            "Example: he taught foreign languages\n",
            "\n"
          ]
        }
      ]
    }
  ],
  "metadata": {
    "colab": {
      "provenance": [],
      "authorship_tag": "ABX9TyN9tNLLzTz8/SoZLonilbmc",
      "include_colab_link": true
    },
    "kernelspec": {
      "display_name": "Python 3",
      "name": "python3"
    },
    "language_info": {
      "name": "python"
    }
  },
  "nbformat": 4,
  "nbformat_minor": 0
}