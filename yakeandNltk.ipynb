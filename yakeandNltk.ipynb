{
  "nbformat": 4,
  "nbformat_minor": 0,
  "metadata": {
    "colab": {
      "provenance": [],
      "authorship_tag": "ABX9TyPIA+XBDgbQzMW6Vq7xhhZ3",
      "include_colab_link": true
    },
    "kernelspec": {
      "name": "python3",
      "display_name": "Python 3"
    },
    "language_info": {
      "name": "python"
    }
  },
  "cells": [
    {
      "cell_type": "markdown",
      "metadata": {
        "id": "view-in-github",
        "colab_type": "text"
      },
      "source": [
        "<a href=\"https://colab.research.google.com/github/CHAKRISPEED/KeywordExtractionandExplanationforKeyword/blob/main/yakeandNltk.ipynb\" target=\"_parent\"><img src=\"https://colab.research.google.com/assets/colab-badge.svg\" alt=\"Open In Colab\"/></a>"
      ]
    },
    {
      "cell_type": "code",
      "execution_count": null,
      "metadata": {
        "colab": {
          "base_uri": "https://localhost:8080/"
        },
        "id": "TEb1CpjL3pp7",
        "outputId": "ed5b032f-e471-4c70-ab80-5c92c3d48871"
      },
      "outputs": [
        {
          "output_type": "stream",
          "name": "stdout",
          "text": [
            "Collecting yake\n",
            "  Downloading yake-0.4.8-py2.py3-none-any.whl (60 kB)\n",
            "\u001b[2K     \u001b[90m━━━━━━━━━━━━━━━━━━━━━━━━━━━━━━━━━━━━━━━━\u001b[0m \u001b[32m60.2/60.2 kB\u001b[0m \u001b[31m1.3 MB/s\u001b[0m eta \u001b[36m0:00:00\u001b[0m\n",
            "\u001b[?25hRequirement already satisfied: tabulate in /usr/local/lib/python3.10/dist-packages (from yake) (0.9.0)\n",
            "Requirement already satisfied: click>=6.0 in /usr/local/lib/python3.10/dist-packages (from yake) (8.1.7)\n",
            "Requirement already satisfied: numpy in /usr/local/lib/python3.10/dist-packages (from yake) (1.25.2)\n",
            "Collecting segtok (from yake)\n",
            "  Downloading segtok-1.5.11-py3-none-any.whl (24 kB)\n",
            "Requirement already satisfied: networkx in /usr/local/lib/python3.10/dist-packages (from yake) (3.2.1)\n",
            "Collecting jellyfish (from yake)\n",
            "  Downloading jellyfish-1.0.3-cp310-cp310-manylinux_2_17_x86_64.manylinux2014_x86_64.whl (1.2 MB)\n",
            "\u001b[2K     \u001b[90m━━━━━━━━━━━━━━━━━━━━━━━━━━━━━━━━━━━━━━━━\u001b[0m \u001b[32m1.2/1.2 MB\u001b[0m \u001b[31m20.0 MB/s\u001b[0m eta \u001b[36m0:00:00\u001b[0m\n",
            "\u001b[?25hRequirement already satisfied: regex in /usr/local/lib/python3.10/dist-packages (from segtok->yake) (2023.12.25)\n",
            "Installing collected packages: segtok, jellyfish, yake\n",
            "Successfully installed jellyfish-1.0.3 segtok-1.5.11 yake-0.4.8\n"
          ]
        }
      ],
      "source": [
        "!pip install yake\n"
      ]
    },
    {
      "cell_type": "code",
      "source": [
        "import nltk\n",
        "nltk.download('punkt')\n"
      ],
      "metadata": {
        "colab": {
          "base_uri": "https://localhost:8080/"
        },
        "id": "8xuJZiU64Rku",
        "outputId": "493539c7-dbef-4311-894e-f03db86b3c79"
      },
      "execution_count": null,
      "outputs": [
        {
          "output_type": "stream",
          "name": "stderr",
          "text": [
            "[nltk_data] Downloading package punkt to /root/nltk_data...\n",
            "[nltk_data]   Unzipping tokenizers/punkt.zip.\n"
          ]
        },
        {
          "output_type": "execute_result",
          "data": {
            "text/plain": [
              "True"
            ]
          },
          "metadata": {},
          "execution_count": 3
        }
      ]
    },
    {
      "cell_type": "code",
      "source": [
        "import nltk\n",
        "nltk.download('averaged_perceptron_tagger')"
      ],
      "metadata": {
        "colab": {
          "base_uri": "https://localhost:8080/"
        },
        "id": "cTQ-Ekd24hYL",
        "outputId": "b0a2342f-957e-465c-8628-a68fd60cd736"
      },
      "execution_count": null,
      "outputs": [
        {
          "output_type": "stream",
          "name": "stderr",
          "text": [
            "[nltk_data] Downloading package averaged_perceptron_tagger to\n",
            "[nltk_data]     /root/nltk_data...\n",
            "[nltk_data]   Unzipping taggers/averaged_perceptron_tagger.zip.\n"
          ]
        },
        {
          "output_type": "execute_result",
          "data": {
            "text/plain": [
              "True"
            ]
          },
          "metadata": {},
          "execution_count": 6
        }
      ]
    },
    {
      "cell_type": "code",
      "source": [
        "import nltk\n",
        "nltk.download('wordnet')"
      ],
      "metadata": {
        "colab": {
          "base_uri": "https://localhost:8080/"
        },
        "id": "Sune0jh74mIQ",
        "outputId": "62daad22-cdbf-4985-885e-2c6b842dd486"
      },
      "execution_count": null,
      "outputs": [
        {
          "output_type": "stream",
          "name": "stderr",
          "text": [
            "[nltk_data] Downloading package wordnet to /root/nltk_data...\n"
          ]
        },
        {
          "output_type": "execute_result",
          "data": {
            "text/plain": [
              "True"
            ]
          },
          "metadata": {},
          "execution_count": 8
        }
      ]
    },
    {
      "cell_type": "code",
      "source": [
        "import yake\n",
        "import nltk\n",
        "from nltk.tokenize import word_tokenize\n",
        "from nltk.corpus import wordnet\n",
        "\n",
        "def find_keywords(text):\n",
        "    # Initialize YAKE keyword extractor\n",
        "    keyword_extractor = yake.KeywordExtractor()\n",
        "\n",
        "    # Extract keywords from the text\n",
        "    keywords = keyword_extractor.extract_keywords(text)\n",
        "\n",
        "    # Initialize an empty set to store the keywords with their types\n",
        "    keywords_with_types = set()\n",
        "\n",
        "    # Define the set of POS tags for each keyword category\n",
        "    keyword_tags = {\n",
        "        'noun': ['NN', 'NNS', 'NNP', 'NNPS'],  # Nouns\n",
        "        'verb': ['VB', 'VBD', 'VBG', 'VBN', 'VBP', 'VBZ'],  # Verbs\n",
        "        'adjective': ['JJ', 'JJR', 'JJS'],  # Adjectives\n",
        "        'adverb': ['RB', 'RBR', 'RBS']  # Adverbs\n",
        "    }\n",
        "\n",
        "    # Tokenize the text into words\n",
        "    words = word_tokenize(text)\n",
        "\n",
        "    # Part-of-speech tagging to identify nouns, verbs, adjectives, and adverbs\n",
        "    pos_tags = nltk.pos_tag(words)\n",
        "\n",
        "    # Iterate through each keyword extracted by YAKE\n",
        "    for word, score in keywords:\n",
        "        # Check the POS tag of the word and assign its type accordingly\n",
        "        for keyword_type, tags in keyword_tags.items():\n",
        "            for tag in tags:\n",
        "                if nltk.pos_tag([word])[0][1] == tag:\n",
        "                    keywords_with_types.add((word, keyword_type))\n",
        "                    break\n",
        "\n",
        "    return keywords_with_types\n",
        "\n",
        "def explain_keywords(keywords):\n",
        "    for word, keyword_type in keywords:\n",
        "        synsets = wordnet.synsets(word)\n",
        "        if synsets:\n",
        "            synset = synsets[0]  # We'll just take the first synset for simplicity\n",
        "            definition = synset.definition()\n",
        "            example = synset.examples()\n",
        "            print(f\"{word} ({keyword_type}):\")\n",
        "            print(f\"Definition: {definition}\")\n",
        "            if example:\n",
        "                print(f\"Example: {example[0]}\")\n",
        "            print()\n",
        "\n",
        "# Example text\n",
        "text = \"\"\"Yake is a python library for keyword extraction. It is simple to use and provides good results.\n",
        "You can adjust parameters such as language, number of keywords, and more to customize the extraction process.\"\"\"\n",
        "\n",
        "# Find keywords using YAKE\n",
        "keywords = find_keywords(text)\n",
        "\n",
        "# Explain keywords\n",
        "explain_keywords(keywords)\n"
      ],
      "metadata": {
        "colab": {
          "base_uri": "https://localhost:8080/"
        },
        "id": "Kto3oc8333ma",
        "outputId": "5c338859-4369-48e8-f633-b240b4190da7"
      },
      "execution_count": null,
      "outputs": [
        {
          "output_type": "stream",
          "name": "stdout",
          "text": [
            "language (noun):\n",
            "Definition: a systematic means of communicating by the use of sounds or conventional symbols\n",
            "Example: he taught foreign languages\n",
            "\n",
            "number (noun):\n",
            "Definition: the property possessed by a sum or total or indefinite quantity of units or individuals\n",
            "Example: he had a number of chores to do\n",
            "\n",
            "library (noun):\n",
            "Definition: a room where books are kept\n",
            "Example: they had brandy in the library\n",
            "\n",
            "adjust (noun):\n",
            "Definition: alter or regulate so as to achieve accuracy or conform to a standard\n",
            "Example: Adjust the clock, please\n",
            "\n",
            "python (noun):\n",
            "Definition: large Old World boas\n",
            "\n",
            "process (noun):\n",
            "Definition: a particular course of action intended to achieve a result\n",
            "Example: the procedure of obtaining a driver's license\n",
            "\n",
            "customize (noun):\n",
            "Definition: make to specifications\n",
            "Example: I had this desk custom-made for me\n",
            "\n",
            "simple (noun):\n",
            "Definition: any herbaceous plant having medicinal properties\n",
            "\n",
            "extraction (noun):\n",
            "Definition: the process of obtaining something from a mixture or compound by chemical or physical or mechanical means\n",
            "\n",
            "parameters (noun):\n",
            "Definition: a constant in the equation of a curve that can be varied to yield a family of similar curves\n",
            "\n",
            "good (adjective):\n",
            "Definition: benefit\n",
            "Example: for your own good\n",
            "\n",
            "results (noun):\n",
            "Definition: a phenomenon that follows and is caused by some previous phenomenon\n",
            "Example: the magnetic effect was greater when the rod was lengthwise\n",
            "\n"
          ]
        }
      ]
    }
  ]
}