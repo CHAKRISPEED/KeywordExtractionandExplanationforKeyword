{
  "nbformat": 4,
  "nbformat_minor": 0,
  "metadata": {
    "colab": {
      "provenance": [],
      "authorship_tag": "ABX9TyNKlZLpUFDQgukhq81I8ilw",
      "include_colab_link": true
    },
    "kernelspec": {
      "name": "python3",
      "display_name": "Python 3"
    },
    "language_info": {
      "name": "python"
    }
  },
  "cells": [
    {
      "cell_type": "markdown",
      "metadata": {
        "id": "view-in-github",
        "colab_type": "text"
      },
      "source": [
        "<a href=\"https://colab.research.google.com/github/CHAKRISPEED/KeywordExtractionandExplanationforKeyword/blob/main/Spacy_pydictionary.ipynb\" target=\"_parent\"><img src=\"https://colab.research.google.com/assets/colab-badge.svg\" alt=\"Open In Colab\"/></a>"
      ]
    },
    {
      "cell_type": "code",
      "execution_count": null,
      "metadata": {
        "colab": {
          "base_uri": "https://localhost:8080/"
        },
        "id": "J4RanVEKtILE",
        "outputId": "24e588d2-ba57-4030-e455-d3648076ff82"
      },
      "outputs": [
        {
          "output_type": "stream",
          "name": "stdout",
          "text": [
            "Requirement already satisfied: spacy in /usr/local/lib/python3.10/dist-packages (3.7.4)\n",
            "Requirement already satisfied: spacy-legacy<3.1.0,>=3.0.11 in /usr/local/lib/python3.10/dist-packages (from spacy) (3.0.12)\n",
            "Requirement already satisfied: spacy-loggers<2.0.0,>=1.0.0 in /usr/local/lib/python3.10/dist-packages (from spacy) (1.0.5)\n",
            "Requirement already satisfied: murmurhash<1.1.0,>=0.28.0 in /usr/local/lib/python3.10/dist-packages (from spacy) (1.0.10)\n",
            "Requirement already satisfied: cymem<2.1.0,>=2.0.2 in /usr/local/lib/python3.10/dist-packages (from spacy) (2.0.8)\n",
            "Requirement already satisfied: preshed<3.1.0,>=3.0.2 in /usr/local/lib/python3.10/dist-packages (from spacy) (3.0.9)\n",
            "Requirement already satisfied: thinc<8.3.0,>=8.2.2 in /usr/local/lib/python3.10/dist-packages (from spacy) (8.2.3)\n",
            "Requirement already satisfied: wasabi<1.2.0,>=0.9.1 in /usr/local/lib/python3.10/dist-packages (from spacy) (1.1.2)\n",
            "Requirement already satisfied: srsly<3.0.0,>=2.4.3 in /usr/local/lib/python3.10/dist-packages (from spacy) (2.4.8)\n",
            "Requirement already satisfied: catalogue<2.1.0,>=2.0.6 in /usr/local/lib/python3.10/dist-packages (from spacy) (2.0.10)\n",
            "Requirement already satisfied: weasel<0.4.0,>=0.1.0 in /usr/local/lib/python3.10/dist-packages (from spacy) (0.3.4)\n",
            "Requirement already satisfied: typer<0.10.0,>=0.3.0 in /usr/local/lib/python3.10/dist-packages (from spacy) (0.9.4)\n",
            "Requirement already satisfied: smart-open<7.0.0,>=5.2.1 in /usr/local/lib/python3.10/dist-packages (from spacy) (6.4.0)\n",
            "Requirement already satisfied: tqdm<5.0.0,>=4.38.0 in /usr/local/lib/python3.10/dist-packages (from spacy) (4.66.2)\n",
            "Requirement already satisfied: requests<3.0.0,>=2.13.0 in /usr/local/lib/python3.10/dist-packages (from spacy) (2.31.0)\n",
            "Requirement already satisfied: pydantic!=1.8,!=1.8.1,<3.0.0,>=1.7.4 in /usr/local/lib/python3.10/dist-packages (from spacy) (2.6.4)\n",
            "Requirement already satisfied: jinja2 in /usr/local/lib/python3.10/dist-packages (from spacy) (3.1.3)\n",
            "Requirement already satisfied: setuptools in /usr/local/lib/python3.10/dist-packages (from spacy) (67.7.2)\n",
            "Requirement already satisfied: packaging>=20.0 in /usr/local/lib/python3.10/dist-packages (from spacy) (24.0)\n",
            "Requirement already satisfied: langcodes<4.0.0,>=3.2.0 in /usr/local/lib/python3.10/dist-packages (from spacy) (3.3.0)\n",
            "Requirement already satisfied: numpy>=1.19.0 in /usr/local/lib/python3.10/dist-packages (from spacy) (1.25.2)\n",
            "Requirement already satisfied: annotated-types>=0.4.0 in /usr/local/lib/python3.10/dist-packages (from pydantic!=1.8,!=1.8.1,<3.0.0,>=1.7.4->spacy) (0.6.0)\n",
            "Requirement already satisfied: pydantic-core==2.16.3 in /usr/local/lib/python3.10/dist-packages (from pydantic!=1.8,!=1.8.1,<3.0.0,>=1.7.4->spacy) (2.16.3)\n",
            "Requirement already satisfied: typing-extensions>=4.6.1 in /usr/local/lib/python3.10/dist-packages (from pydantic!=1.8,!=1.8.1,<3.0.0,>=1.7.4->spacy) (4.10.0)\n",
            "Requirement already satisfied: charset-normalizer<4,>=2 in /usr/local/lib/python3.10/dist-packages (from requests<3.0.0,>=2.13.0->spacy) (3.3.2)\n",
            "Requirement already satisfied: idna<4,>=2.5 in /usr/local/lib/python3.10/dist-packages (from requests<3.0.0,>=2.13.0->spacy) (3.6)\n",
            "Requirement already satisfied: urllib3<3,>=1.21.1 in /usr/local/lib/python3.10/dist-packages (from requests<3.0.0,>=2.13.0->spacy) (2.0.7)\n",
            "Requirement already satisfied: certifi>=2017.4.17 in /usr/local/lib/python3.10/dist-packages (from requests<3.0.0,>=2.13.0->spacy) (2024.2.2)\n",
            "Requirement already satisfied: blis<0.8.0,>=0.7.8 in /usr/local/lib/python3.10/dist-packages (from thinc<8.3.0,>=8.2.2->spacy) (0.7.11)\n",
            "Requirement already satisfied: confection<1.0.0,>=0.0.1 in /usr/local/lib/python3.10/dist-packages (from thinc<8.3.0,>=8.2.2->spacy) (0.1.4)\n",
            "Requirement already satisfied: click<9.0.0,>=7.1.1 in /usr/local/lib/python3.10/dist-packages (from typer<0.10.0,>=0.3.0->spacy) (8.1.7)\n",
            "Requirement already satisfied: cloudpathlib<0.17.0,>=0.7.0 in /usr/local/lib/python3.10/dist-packages (from weasel<0.4.0,>=0.1.0->spacy) (0.16.0)\n",
            "Requirement already satisfied: MarkupSafe>=2.0 in /usr/local/lib/python3.10/dist-packages (from jinja2->spacy) (2.1.5)\n"
          ]
        }
      ],
      "source": [
        "!pip3 install spacy"
      ]
    },
    {
      "cell_type": "code",
      "source": [
        "import spacy\n",
        "from collections import Counter\n",
        "from string import punctuation\n",
        "nlp = spacy.load(\"en_core_web_sm\")\n",
        "def get_hotwords(text):\n",
        "    result = []\n",
        "    pos_tag = ['PROPN', 'ADJ', 'NOUN']\n",
        "    doc = nlp(text.lower())\n",
        "    for token in doc:\n",
        "        if(token.text in nlp.Defaults.stop_words or token.text in punctuation):\n",
        "            continue\n",
        "        if(token.pos_ in pos_tag):\n",
        "            result.append(token.text)\n",
        "    return result\n",
        "new_text = \"\"\"\n",
        "When it comes to evaluating the performance of keyword extractors, you can use some of the standard metrics in machine learning: accuracy, precision, recall, and F1 score. However, these metrics don’t reflect partial matches. they only consider the perfect match between an extracted segment and the correct prediction for that tag.\n",
        "Fortunately, there are some other metrics capable of capturing partial matches. An example of this is ROUGE.\n",
        "\"\"\"\n",
        "output = set(get_hotwords(new_text))\n",
        "most_common_list = Counter(output).most_common(10)\n",
        "for item in most_common_list:\n",
        "  print(item[0])"
      ],
      "metadata": {
        "colab": {
          "base_uri": "https://localhost:8080/"
        },
        "id": "Vi7ZZan9taxl",
        "outputId": "a821c0b9-44c2-48c0-d409-50c54fa640f3"
      },
      "execution_count": null,
      "outputs": [
        {
          "output_type": "stream",
          "name": "stdout",
          "text": [
            "metrics\n",
            "precision\n",
            "rouge\n",
            "performance\n",
            "machine\n",
            "recall\n",
            "f1\n",
            "accuracy\n",
            "matches\n",
            "standard\n"
          ]
        }
      ]
    },
    {
      "cell_type": "code",
      "source": [
        "!pip install pyttsx3\n",
        "!pip install PyDictionary"
      ],
      "metadata": {
        "colab": {
          "base_uri": "https://localhost:8080/"
        },
        "id": "ys40lX6Oo0at",
        "outputId": "a897a686-3d34-40bb-d43c-4e0df7b09061"
      },
      "execution_count": null,
      "outputs": [
        {
          "output_type": "stream",
          "name": "stdout",
          "text": [
            "Requirement already satisfied: pyttsx3 in /usr/local/lib/python3.10/dist-packages (2.90)\n",
            "Requirement already satisfied: PyDictionary in /usr/local/lib/python3.10/dist-packages (2.0.1)\n",
            "Requirement already satisfied: bs4 in /usr/local/lib/python3.10/dist-packages (from PyDictionary) (0.0.2)\n",
            "Requirement already satisfied: click in /usr/local/lib/python3.10/dist-packages (from PyDictionary) (8.1.7)\n",
            "Requirement already satisfied: goslate in /usr/local/lib/python3.10/dist-packages (from PyDictionary) (1.5.4)\n",
            "Requirement already satisfied: requests in /usr/local/lib/python3.10/dist-packages (from PyDictionary) (2.31.0)\n",
            "Requirement already satisfied: beautifulsoup4 in /usr/local/lib/python3.10/dist-packages (from bs4->PyDictionary) (4.12.3)\n",
            "Requirement already satisfied: futures in /usr/local/lib/python3.10/dist-packages (from goslate->PyDictionary) (3.0.5)\n",
            "Requirement already satisfied: charset-normalizer<4,>=2 in /usr/local/lib/python3.10/dist-packages (from requests->PyDictionary) (3.3.2)\n",
            "Requirement already satisfied: idna<4,>=2.5 in /usr/local/lib/python3.10/dist-packages (from requests->PyDictionary) (3.6)\n",
            "Requirement already satisfied: urllib3<3,>=1.21.1 in /usr/local/lib/python3.10/dist-packages (from requests->PyDictionary) (2.0.7)\n",
            "Requirement already satisfied: certifi>=2017.4.17 in /usr/local/lib/python3.10/dist-packages (from requests->PyDictionary) (2024.2.2)\n",
            "Requirement already satisfied: soupsieve>1.2 in /usr/local/lib/python3.10/dist-packages (from beautifulsoup4->bs4->PyDictionary) (2.5)\n"
          ]
        }
      ]
    },
    {
      "cell_type": "code",
      "source": [
        "#Importing modules\n",
        "from tkinter import *\n",
        "import pyttsx3\n",
        "from PyDictionary import PyDictionary"
      ],
      "metadata": {
        "id": "bU48tnI8ovw7"
      },
      "execution_count": null,
      "outputs": []
    },
    {
      "cell_type": "code",
      "source": [
        "def speak(audio):\n",
        "    # Having the initial constructor of pyttsx3 with sapi5 in it as a parameter\n",
        "    engine = pyttsx3.init('sapi5')\n",
        "\n",
        "    # Calling the getter of pyttsx3\n",
        "    voices = engine.getProperty('voices')\n",
        "\n",
        "    # Making the assistant speak\n",
        "    engine.setProperty('voice', voices[0].id)\n",
        "    engine.say(audio)\n",
        "    engine.runAndWait()"
      ],
      "metadata": {
        "id": "S8xhxVK6p3hp"
      },
      "execution_count": null,
      "outputs": []
    },
    {
      "cell_type": "code",
      "source": [
        "def meaning():\n",
        "    dic = PyDictionary()\n",
        "    # Taking the string input\n",
        "    query = str(text.get())\n",
        "    word = dic.meaning(query)\n",
        "    res=''\n",
        "    for state in word:\n",
        "        res+=(str(word[state][0]))+'\\n'\n",
        "        spokenText.set(res)\n",
        "        speak(\"the meaning  is\" + str(word[state]))"
      ],
      "metadata": {
        "id": "0TzV_wNAqA6w"
      },
      "execution_count": null,
      "outputs": []
    },
    {
      "cell_type": "code",
      "source": [
        "import requests\n",
        "import json\n",
        "\n",
        "\n",
        "word = \"Python\"\n",
        "res = requests.get(\"https://api.dictionaryapi.dev/api/v2/entries/en/\"+word)\n",
        "\n",
        "print(res.content)"
      ],
      "metadata": {
        "colab": {
          "base_uri": "https://localhost:8080/"
        },
        "id": "meOk56s6qC_W",
        "outputId": "335d870c-c46d-4317-a1e7-a51f4fcf046a"
      },
      "execution_count": null,
      "outputs": [
        {
          "output_type": "stream",
          "name": "stdout",
          "text": [
            "b'[{\"word\":\"python\",\"phonetics\":[{\"audio\":\"https://api.dictionaryapi.dev/media/pronunciations/en/python-au.mp3\",\"sourceUrl\":\"https://commons.wikimedia.org/w/index.php?curid=79268748\",\"license\":{\"name\":\"BY-SA 4.0\",\"url\":\"https://creativecommons.org/licenses/by-sa/4.0\"}},{\"text\":\"/\\xcb\\x88pa\\xc9\\xaa\\xce\\xb8\\xc9\\x99n/\",\"audio\":\"\"},{\"text\":\"/\\xcb\\x88pa\\xc9\\xaa\\xce\\xb8\\xc9\\x91\\xcb\\x90n/\",\"audio\":\"\"}],\"meanings\":[{\"partOfSpeech\":\"noun\",\"definitions\":[{\"definition\":\"A type of large constricting snake.\",\"synonyms\":[],\"antonyms\":[]},{\"definition\":\"Penis\",\"synonyms\":[],\"antonyms\":[]}],\"synonyms\":[],\"antonyms\":[]}],\"license\":{\"name\":\"CC BY-SA 3.0\",\"url\":\"https://creativecommons.org/licenses/by-sa/3.0\"},\"sourceUrls\":[\"https://en.wiktionary.org/wiki/python\"]}]'\n"
          ]
        }
      ]
    },
    {
      "cell_type": "code",
      "source": [
        "import spacy\n",
        "from collections import Counter\n",
        "from string import punctuation\n",
        "import requests\n",
        "\n",
        "nlp = spacy.load(\"en_core_web_sm\")\n",
        "\n",
        "def get_hotwords(text):\n",
        "    result = []\n",
        "    pos_tag = ['PROPN', 'ADJ', 'NOUN']\n",
        "    doc = nlp(text.lower())\n",
        "    for token in doc:\n",
        "        if token.text in nlp.Defaults.stop_words or token.text in punctuation:\n",
        "            continue\n",
        "        if token.pos_ in pos_tag:\n",
        "            result.append(token.text)\n",
        "    return result\n",
        "\n",
        "new_text = \"\"\"\n",
        "When it comes to evaluating the performance of keyword extractors, you can use some of the standard metrics in machine learning: accuracy, precision, recall, and F1 score. However, these metrics don’t reflect partial matches. they only consider the perfect match between an extracted segment and the correct prediction for that tag.\n",
        "Fortunately, there are some other metrics capable of capturing partial matches. An example of this is ROUGE.\n",
        "\"\"\"\n",
        "output = set(get_hotwords(new_text))\n",
        "most_common_list = [item[0] for item in Counter(output).most_common(10)]\n",
        "\n",
        "for word in most_common_list:\n",
        "    res = requests.get(\"https://api.dictionaryapi.dev/api/v2/entries/en/\" + word)\n",
        "    print(\"Definitions for\", word + \":\")\n",
        "    if res.status_code == 200:\n",
        "        data = res.json()\n",
        "        if data:  # Check if there's any data returned\n",
        "            for entry in data:\n",
        "                meanings = entry.get('meanings', [])\n",
        "                if meanings:  # Check if meanings exist\n",
        "                    for meaning in meanings:\n",
        "                        definitions = meaning.get('definitions', [])\n",
        "                        if definitions:  # Check if definitions exist\n",
        "                            print(\"- {}: {}\".format(word, definitions[0].get('definition', 'No definition available')))\n",
        "                        else:\n",
        "                            print(\"- {}: No definitions available.\".format(word))\n",
        "                        break  # Only print the first definition\n",
        "                else:\n",
        "                    print(\"- {}: No meanings available.\".format(word))\n",
        "        else:\n",
        "            print(\"- {}: No data available.\".format(word))\n",
        "    else:\n",
        "        print(\"Failed to retrieve definitions for\", word)\n"
      ],
      "metadata": {
        "colab": {
          "base_uri": "https://localhost:8080/"
        },
        "id": "x3Hs7aS1wS63",
        "outputId": "66b55102-dc3c-4468-ea04-ea592b6f8afd"
      },
      "execution_count": null,
      "outputs": [
        {
          "output_type": "stream",
          "name": "stdout",
          "text": [
            "Definitions for metrics:\n",
            "Failed to retrieve definitions for metrics\n",
            "Definitions for precision:\n",
            "Failed to retrieve definitions for precision\n",
            "Definitions for rouge:\n",
            "Failed to retrieve definitions for rouge\n",
            "Definitions for performance:\n",
            "Failed to retrieve definitions for performance\n",
            "Definitions for machine:\n",
            "Failed to retrieve definitions for machine\n",
            "Definitions for recall:\n",
            "Failed to retrieve definitions for recall\n",
            "Definitions for f1:\n",
            "Failed to retrieve definitions for f1\n",
            "Definitions for accuracy:\n",
            "- accuracy: The state of being accurate; being free from mistakes, this exemption arising from carefulness; exactness; correctness\n",
            "Definitions for matches:\n",
            "- matches: A competitive sporting event such as a boxing meet, a baseball game, or a cricket match.\n",
            "Definitions for standard:\n",
            "- standard: A principle or example or measure used for comparison.\n"
          ]
        }
      ]
    }
  ]
}