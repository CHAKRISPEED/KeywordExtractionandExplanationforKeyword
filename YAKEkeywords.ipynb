{
  "nbformat": 4,
  "nbformat_minor": 0,
  "metadata": {
    "colab": {
      "provenance": [],
      "authorship_tag": "ABX9TyML9fRqAHI5bozHmcdBIaWx",
      "include_colab_link": true
    },
    "kernelspec": {
      "name": "python3",
      "display_name": "Python 3"
    },
    "language_info": {
      "name": "python"
    }
  },
  "cells": [
    {
      "cell_type": "markdown",
      "metadata": {
        "id": "view-in-github",
        "colab_type": "text"
      },
      "source": [
        "<a href=\"https://colab.research.google.com/github/CHAKRISPEED/KeywordExtractionandExplanationforKeyword/blob/main/YAKEkeywords.ipynb\" target=\"_parent\"><img src=\"https://colab.research.google.com/assets/colab-badge.svg\" alt=\"Open In Colab\"/></a>"
      ]
    },
    {
      "cell_type": "code",
      "execution_count": null,
      "metadata": {
        "colab": {
          "base_uri": "https://localhost:8080/"
        },
        "id": "a1kGlkxsylcR",
        "outputId": "6b97fbb8-0e07-4738-af9e-6f7f0febf0b7"
      },
      "outputs": [
        {
          "output_type": "stream",
          "name": "stdout",
          "text": [
            "Requirement already satisfied: yake in /usr/local/lib/python3.10/dist-packages (0.4.8)\n",
            "Requirement already satisfied: tabulate in /usr/local/lib/python3.10/dist-packages (from yake) (0.9.0)\n",
            "Requirement already satisfied: click>=6.0 in /usr/local/lib/python3.10/dist-packages (from yake) (8.1.7)\n",
            "Requirement already satisfied: numpy in /usr/local/lib/python3.10/dist-packages (from yake) (1.25.2)\n",
            "Requirement already satisfied: segtok in /usr/local/lib/python3.10/dist-packages (from yake) (1.5.11)\n",
            "Requirement already satisfied: networkx in /usr/local/lib/python3.10/dist-packages (from yake) (3.2.1)\n",
            "Requirement already satisfied: jellyfish in /usr/local/lib/python3.10/dist-packages (from yake) (1.0.3)\n",
            "Requirement already satisfied: regex in /usr/local/lib/python3.10/dist-packages (from segtok->yake) (2023.12.25)\n"
          ]
        }
      ],
      "source": [
        "!pip install yake\n"
      ]
    },
    {
      "cell_type": "code",
      "source": [
        "!pip install nltk"
      ],
      "metadata": {
        "colab": {
          "base_uri": "https://localhost:8080/"
        },
        "id": "ZecaLAsPy-Xc",
        "outputId": "6f52ef81-21ac-4e37-e7d0-833c59f9577e"
      },
      "execution_count": null,
      "outputs": [
        {
          "output_type": "stream",
          "name": "stdout",
          "text": [
            "Requirement already satisfied: nltk in /usr/local/lib/python3.10/dist-packages (3.8.1)\n",
            "Requirement already satisfied: click in /usr/local/lib/python3.10/dist-packages (from nltk) (8.1.7)\n",
            "Requirement already satisfied: joblib in /usr/local/lib/python3.10/dist-packages (from nltk) (1.3.2)\n",
            "Requirement already satisfied: regex>=2021.8.3 in /usr/local/lib/python3.10/dist-packages (from nltk) (2023.12.25)\n",
            "Requirement already satisfied: tqdm in /usr/local/lib/python3.10/dist-packages (from nltk) (4.66.2)\n"
          ]
        }
      ]
    },
    {
      "cell_type": "code",
      "source": [
        "!pip install PyDictionary"
      ],
      "metadata": {
        "colab": {
          "base_uri": "https://localhost:8080/"
        },
        "id": "7OFLtxdI1WwX",
        "outputId": "978169c2-0209-465b-f310-8240ea238216"
      },
      "execution_count": null,
      "outputs": [
        {
          "output_type": "stream",
          "name": "stdout",
          "text": [
            "Requirement already satisfied: PyDictionary in /usr/local/lib/python3.10/dist-packages (2.0.1)\n",
            "Requirement already satisfied: bs4 in /usr/local/lib/python3.10/dist-packages (from PyDictionary) (0.0.2)\n",
            "Requirement already satisfied: click in /usr/local/lib/python3.10/dist-packages (from PyDictionary) (8.1.7)\n",
            "Requirement already satisfied: goslate in /usr/local/lib/python3.10/dist-packages (from PyDictionary) (1.5.4)\n",
            "Requirement already satisfied: requests in /usr/local/lib/python3.10/dist-packages (from PyDictionary) (2.31.0)\n",
            "Requirement already satisfied: beautifulsoup4 in /usr/local/lib/python3.10/dist-packages (from bs4->PyDictionary) (4.12.3)\n",
            "Requirement already satisfied: futures in /usr/local/lib/python3.10/dist-packages (from goslate->PyDictionary) (3.0.5)\n",
            "Requirement already satisfied: charset-normalizer<4,>=2 in /usr/local/lib/python3.10/dist-packages (from requests->PyDictionary) (3.3.2)\n",
            "Requirement already satisfied: idna<4,>=2.5 in /usr/local/lib/python3.10/dist-packages (from requests->PyDictionary) (3.6)\n",
            "Requirement already satisfied: urllib3<3,>=1.21.1 in /usr/local/lib/python3.10/dist-packages (from requests->PyDictionary) (2.0.7)\n",
            "Requirement already satisfied: certifi>=2017.4.17 in /usr/local/lib/python3.10/dist-packages (from requests->PyDictionary) (2024.2.2)\n",
            "Requirement already satisfied: soupsieve>1.2 in /usr/local/lib/python3.10/dist-packages (from beautifulsoup4->bs4->PyDictionary) (2.5)\n"
          ]
        }
      ]
    },
    {
      "cell_type": "markdown",
      "source": [
        "### NLTK for extraction\n",
        "\n",
        "\n",
        "\n",
        "\n",
        "---\n",
        "\n",
        "\n",
        "\n",
        "---\n",
        "\n",
        "\n"
      ],
      "metadata": {
        "id": "2kw2Hvwg1eXC"
      }
    },
    {
      "cell_type": "code",
      "source": [
        "import yake\n",
        "import string\n",
        "import nltk\n",
        "from nltk.corpus import wordnet\n",
        "\n",
        "# Download NLTK resources\n",
        "nltk.download('wordnet')\n",
        "\n",
        "def extract_keywords(text, language='en', max_ngram_size=3, deduplication_threshold=0.9, num_keywords=10):\n",
        "    custom_kw_extractor = yake.KeywordExtractor(lan=language, n=max_ngram_size, dedupLim=deduplication_threshold, top=num_keywords, features=None)\n",
        "    keywords = custom_kw_extractor.extract_keywords(text)\n",
        "    return [keyword for keyword, _ in keywords]\n",
        "\n",
        "def generate_explanation(keyword):\n",
        "    # Get definitions for the keyword using WordNet\n",
        "    synsets = wordnet.synsets(keyword)\n",
        "\n",
        "    # If there's at least one synset, take the definition of the first one\n",
        "    if synsets:\n",
        "        definition = synsets[0].definition()\n",
        "    else:\n",
        "        definition = \"This term is not defined.\"\n",
        "\n",
        "    # Generate an explanation sentence using the keyword and its definition\n",
        "    explanation = f\"{keyword.capitalize()}: {definition}\"\n",
        "    return explanation\n",
        "\n",
        "# Example text\n",
        "text = \"\"\"\n",
        "Yake is a python library for keyword extraction. It is simple to use and provides good results.\n",
        "You can adjust parameters such as language, number of keywords, and more to customize the extraction process.\n",
        "\"\"\"\n",
        "\n",
        "# Extract keywords\n",
        "keywords = extract_keywords(text)\n",
        "\n",
        "# Print extracted keywords and their explanations\n",
        "for keyword in keywords:\n",
        "    explanation = generate_explanation(keyword)\n",
        "    print(f\"Keyword: {keyword}, Explanation: {explanation}\")\n"
      ],
      "metadata": {
        "colab": {
          "base_uri": "https://localhost:8080/"
        },
        "id": "DnWdCp0py6RB",
        "outputId": "52753d7a-2421-49d2-db91-664cb5a488eb"
      },
      "execution_count": null,
      "outputs": [
        {
          "output_type": "stream",
          "name": "stderr",
          "text": [
            "[nltk_data] Downloading package wordnet to /root/nltk_data...\n",
            "[nltk_data]   Package wordnet is already up-to-date!\n"
          ]
        },
        {
          "output_type": "stream",
          "name": "stdout",
          "text": [
            "Keyword: python library, Explanation: Python library: This term is not defined.\n",
            "Keyword: Yake, Explanation: Yake: This term is not defined.\n",
            "Keyword: python, Explanation: Python: large Old World boas\n",
            "Keyword: library, Explanation: Library: a room where books are kept\n",
            "Keyword: extraction, Explanation: Extraction: the process of obtaining something from a mixture or compound by chemical or physical or mechanical means\n",
            "Keyword: good results, Explanation: Good results: This term is not defined.\n",
            "Keyword: library for keyword, Explanation: Library for keyword: This term is not defined.\n",
            "Keyword: results, Explanation: Results: a phenomenon that follows and is caused by some previous phenomenon\n",
            "Keyword: extraction process, Explanation: Extraction process: This term is not defined.\n",
            "Keyword: language, Explanation: Language: a systematic means of communicating by the use of sounds or conventional symbols\n"
          ]
        }
      ]
    },
    {
      "cell_type": "markdown",
      "source": [
        "**PyDictionary**"
      ],
      "metadata": {
        "id": "i6K5TfS-1MfT"
      }
    },
    {
      "cell_type": "code",
      "source": [
        "import yake\n",
        "from PyDictionary import PyDictionary\n",
        "\n",
        "def extract_keywords(text, language='en', max_ngram_size=3, deduplication_threshold=0.9, num_keywords=10):\n",
        "    custom_kw_extractor = yake.KeywordExtractor(lan=language, n=max_ngram_size, dedupLim=deduplication_threshold, top=num_keywords, features=None)\n",
        "    keywords = custom_kw_extractor.extract_keywords(text)\n",
        "    return [keyword for keyword, _ in keywords]\n",
        "\n",
        "def generate_explanation(keyword):\n",
        "    dictionary = PyDictionary()\n",
        "    definition = dictionary.meaning(keyword)\n",
        "\n",
        "    if definition:\n",
        "        explanation = f\"{definition['Noun'][0]}\"  # Considering only noun definition\n",
        "    else:\n",
        "        explanation = f\"No definition found for {keyword}.\"\n",
        "\n",
        "    return explanation\n",
        "\n",
        "# Example text\n",
        "text = \"\"\"\n",
        "Yake is a python library for keyword extraction. It is simple to use and provides good results.\n",
        "You can adjust parameters such as language, number of keywords, and more to customize the extraction process.\n",
        "\"\"\"\n",
        "\n",
        "# Extract keywords\n",
        "keywords = extract_keywords(text)\n",
        "\n",
        "# Print extracted keywords and their explanations\n",
        "for keyword in keywords:\n",
        "    print(f\"Keyword: {keyword}\")\n",
        "    explanation = generate_explanation(keyword)\n",
        "    print(f\"Explanation: {explanation}\\n\")\n"
      ],
      "metadata": {
        "colab": {
          "base_uri": "https://localhost:8080/"
        },
        "id": "UAfVQ52w1Sey",
        "outputId": "847aa0e3-4466-46b5-f723-679f057a0e97"
      },
      "execution_count": null,
      "outputs": [
        {
          "output_type": "stream",
          "name": "stdout",
          "text": [
            "Keyword: python library\n",
            "Error: A Term must be only a single word\n",
            "Explanation: No definition found for python library.\n",
            "\n",
            "Keyword: Yake\n",
            "Error: The Following Error occured: list index out of range\n",
            "Explanation: No definition found for Yake.\n",
            "\n",
            "Keyword: python\n",
            "Explanation: large Old World boas\n",
            "\n",
            "Keyword: library\n",
            "Explanation: a room where books are kept\n",
            "\n",
            "Keyword: extraction\n",
            "Explanation: the process of obtaining something from a mixture or compound by chemical or physical or mechanical means\n",
            "\n",
            "Keyword: good results\n",
            "Error: A Term must be only a single word\n",
            "Explanation: No definition found for good results.\n",
            "\n",
            "Keyword: library for keyword\n",
            "Error: A Term must be only a single word\n",
            "Explanation: No definition found for library for keyword.\n",
            "\n",
            "Keyword: results\n",
            "Explanation: a phenomenon that follows and is caused by some previous phenomenon\n",
            "\n",
            "Keyword: extraction process\n",
            "Error: A Term must be only a single word\n",
            "Explanation: No definition found for extraction process.\n",
            "\n",
            "Keyword: language\n",
            "Explanation: a systematic means of communicating by the use of sounds or conventional symbols\n",
            "\n"
          ]
        }
      ]
    },
    {
      "cell_type": "code",
      "source": [],
      "metadata": {
        "id": "RDCkV57s1Sh0"
      },
      "execution_count": null,
      "outputs": []
    }
  ]
}